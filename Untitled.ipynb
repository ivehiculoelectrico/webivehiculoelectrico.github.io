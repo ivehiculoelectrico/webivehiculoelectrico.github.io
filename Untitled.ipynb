{
 "cells": [
  {
   "cell_type": "code",
   "execution_count": null,
   "id": "ba257263",
   "metadata": {},
   "outputs": [],
   "source": []
  },
  {
   "cell_type": "code",
   "execution_count": 2,
   "id": "206a4ce2",
   "metadata": {
    "code_folding": [
     2
    ]
   },
   "outputs": [],
   "source": [
    "formulario='pp'\n",
    "\n",
    "menu = [\n",
    "    # \"especifico\":\"active\",\n",
    "    {\n",
    "        \"datos\": \"ddindividual\",\n",
    "        \"plantilla\": \"Cards.html\",\n",
    "        \"n\": \"navbar_2\",\n",
    "        \"especifico\": \"\",\n",
    "        \"headline\": \"MOVES III\",\n",
    "        \"headline2\": \"Ayudas del 70 % para autónomos, particulares Comunidades de propietarios y administración sinactividad económica\",\n",
    "        \"content\": \"Cards.html\",\n",
    "        \"content2\": \"\",\n",
    "        \"img\": \"2021-05-30_19-38.png\",\n",
    "        \"img2\": \"\",\n",
    "        \"link\": formulario,\n",
    "        \"link2\": \"#\",\n",
    "    },\n",
    "\n",
    "    {\n",
    "        \"datos\": \"cards\",\n",
    "        \"plantilla\": \"Featurette.html\",\n",
    "        \"n\": \"navbar_1\",\n",
    "        \"especifico\": \"\",\n",
    "        \"headline\": \"COLECTIVO\",\n",
    "        \"headline2\": \"Instalamos su Punto de Recarga en comunidades, hoteles, y  otros aparcamientos colectivos\",\n",
    "        \"content\": \"CardsXL.html\",\n",
    "        \"content2\": \"\",\n",
    "        \"img\": \"electric-car-4381728_640.jpg\",\n",
    "        \"img2\": \"\",\n",
    "        \"link\": \"https://ivehiculoelectrico.com/blog/ITC-BT%2052/5.REQUISITOS%20GENERALES%20DE%20LA%20INSTALACION/\",\n",
    "        \"link2\": \"#\",\n",
    "    },\n",
    "    {\n",
    "        \"datos\": \"cardsxl\",\n",
    "        \"plantilla\": \"Cards.html\",\n",
    "        \"n\": \"navbar_3\",\n",
    "        \"especifico\": \"\",\n",
    "        \"headline\": \"SERVICIOS\",\n",
    "        \"headline2\": \"Quieres asociarte a IVE ?\",\n",
    "        \"content\": \"Featurette.html\",\n",
    "        \"content2\": \"\",\n",
    "        \"img\": \"electric-car-4381728_640.jpg\",\n",
    "        \"img2\": \"\",\n",
    "        \"link\": \"https://ivehiculoelectrico.com/blog/ITC-BT%2052/5.REQUISITOS%20GENERALES%20DE%20LA%20INSTALACION/\",\n",
    "        \"link2\": \"#\",\n",
    "    },\n",
    "    {\n",
    "        \"datos\": \"cards\",\n",
    "        \"plantilla\": \"CardsXL.html\",\n",
    "        \"n\": \"navbar_4\",\n",
    "        \"especifico\": \"\",\n",
    "        \"headline\": \"BLOG\",\n",
    "        \"headline2\": \"Contacto\",\n",
    "        \"content\": \"CardsXL.html\",\n",
    "        \"content2\": \"\",\n",
    "        \"img\": \"electric-car-4381728_640.jpg\",\n",
    "        \"img2\": \"\",\n",
    "        \"link\": formulario,\n",
    "        \"link2\": \"#\",\n",
    "    },\n",
    "    {\n",
    "        \"datos\": \"cards\",\n",
    "        \"plantilla\": \"Cards.html\",\n",
    "        \"n\": \"navbar_5\",\n",
    "        \"especifico\": \"active\",\n",
    "        \"headline\": \"\",\n",
    "        \"headline2\": \"INFRAESTRUCTURA RECARGA VEHICULO ELECTRICO\",\n",
    "        \"content\": \"Cards.html\",\n",
    "        \"content2\": \"\",\n",
    "        \"img\": \"2021-05-30_19-38.png\",\n",
    "        \"img2\": \"\",\n",
    "        \"link\": formulario,\n",
    "        \"link2\": \"#\",\n",
    "    },\n",
    "\n",
    "]\n",
    "# para anadirle el orden que se necesita en el carousel\n",
    "o = -1\n",
    "for i in menu:\n",
    "    o = o + 1\n",
    "    i[\"o\"] = str(o)\n"
   ]
  },
  {
   "cell_type": "code",
   "execution_count": 17,
   "id": "dfe34333",
   "metadata": {},
   "outputs": [
    {
     "data": {
      "text/plain": [
       "'ddindividual'"
      ]
     },
     "execution_count": 17,
     "metadata": {},
     "output_type": "execute_result"
    }
   ],
   "source": [
    "menu[0]['datos']"
   ]
  },
  {
   "cell_type": "code",
   "execution_count": 13,
   "id": "29542144",
   "metadata": {},
   "outputs": [
    {
     "data": {
      "text/plain": [
       "5"
      ]
     },
     "execution_count": 13,
     "metadata": {},
     "output_type": "execute_result"
    }
   ],
   "source": [
    "len(menu)"
   ]
  },
  {
   "cell_type": "code",
   "execution_count": 33,
   "id": "9de12b0e",
   "metadata": {},
   "outputs": [
    {
     "name": "stdout",
     "output_type": "stream",
     "text": [
      "ddindividual\n",
      "cards\n",
      "cardsxl\n",
      "cards\n",
      "cards\n"
     ]
    }
   ],
   "source": [
    "items_menu=[]\n",
    "for i in menu:\n",
    "        print(i['datos'])\n",
    "        items_menu.append(i['datos'])"
   ]
  },
  {
   "cell_type": "code",
   "execution_count": 34,
   "id": "744d9cda",
   "metadata": {},
   "outputs": [
    {
     "data": {
      "text/plain": [
       "['ddindividual', 'cards', 'cardsxl', 'cards', 'cards']"
      ]
     },
     "execution_count": 34,
     "metadata": {},
     "output_type": "execute_result"
    }
   ],
   "source": [
    "items_menu"
   ]
  },
  {
   "cell_type": "code",
   "execution_count": null,
   "id": "df289189",
   "metadata": {},
   "outputs": [],
   "source": []
  }
 ],
 "metadata": {
  "kernelspec": {
   "display_name": "Python 3",
   "language": "python",
   "name": "python3"
  },
  "language_info": {
   "codemirror_mode": {
    "name": "ipython",
    "version": 3
   },
   "file_extension": ".py",
   "mimetype": "text/x-python",
   "name": "python",
   "nbconvert_exporter": "python",
   "pygments_lexer": "ipython3",
   "version": "3.8.5"
  }
 },
 "nbformat": 4,
 "nbformat_minor": 5
}
